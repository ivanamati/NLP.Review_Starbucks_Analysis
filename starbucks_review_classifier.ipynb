{
 "cells": [
  {
   "cell_type": "code",
   "execution_count": 1,
   "metadata": {},
   "outputs": [],
   "source": [
    "import pandas as pd\n"
   ]
  },
  {
   "cell_type": "code",
   "execution_count": 183,
   "metadata": {},
   "outputs": [
    {
     "data": {
      "text/html": [
       "<div>\n",
       "<style scoped>\n",
       "    .dataframe tbody tr th:only-of-type {\n",
       "        vertical-align: middle;\n",
       "    }\n",
       "\n",
       "    .dataframe tbody tr th {\n",
       "        vertical-align: top;\n",
       "    }\n",
       "\n",
       "    .dataframe thead th {\n",
       "        text-align: right;\n",
       "    }\n",
       "</style>\n",
       "<table border=\"1\" class=\"dataframe\">\n",
       "  <thead>\n",
       "    <tr style=\"text-align: right;\">\n",
       "      <th></th>\n",
       "      <th>name</th>\n",
       "      <th>location</th>\n",
       "      <th>Date</th>\n",
       "      <th>Rating</th>\n",
       "      <th>Review</th>\n",
       "      <th>Image_Links</th>\n",
       "    </tr>\n",
       "  </thead>\n",
       "  <tbody>\n",
       "    <tr>\n",
       "      <th>0</th>\n",
       "      <td>Helen</td>\n",
       "      <td>Wichita Falls, TX</td>\n",
       "      <td>Reviewed Sept. 13, 2023</td>\n",
       "      <td>5.0</td>\n",
       "      <td>Amber and LaDonna at the Starbucks on Southwes...</td>\n",
       "      <td>['No Images']</td>\n",
       "    </tr>\n",
       "    <tr>\n",
       "      <th>1</th>\n",
       "      <td>Courtney</td>\n",
       "      <td>Apopka, FL</td>\n",
       "      <td>Reviewed July 16, 2023</td>\n",
       "      <td>5.0</td>\n",
       "      <td>** at the Starbucks by the fire station on 436...</td>\n",
       "      <td>['No Images']</td>\n",
       "    </tr>\n",
       "    <tr>\n",
       "      <th>2</th>\n",
       "      <td>Daynelle</td>\n",
       "      <td>Cranberry Twp, PA</td>\n",
       "      <td>Reviewed July 5, 2023</td>\n",
       "      <td>5.0</td>\n",
       "      <td>I just wanted to go out of my way to recognize...</td>\n",
       "      <td>['https://media.consumeraffairs.com/files/cach...</td>\n",
       "    </tr>\n",
       "    <tr>\n",
       "      <th>3</th>\n",
       "      <td>Taylor</td>\n",
       "      <td>Seattle, WA</td>\n",
       "      <td>Reviewed May 26, 2023</td>\n",
       "      <td>5.0</td>\n",
       "      <td>Me and my friend were at Starbucks and my card...</td>\n",
       "      <td>['No Images']</td>\n",
       "    </tr>\n",
       "    <tr>\n",
       "      <th>4</th>\n",
       "      <td>Tenessa</td>\n",
       "      <td>Gresham, OR</td>\n",
       "      <td>Reviewed Jan. 22, 2023</td>\n",
       "      <td>5.0</td>\n",
       "      <td>I’m on this kick of drinking 5 cups of warm wa...</td>\n",
       "      <td>['https://media.consumeraffairs.com/files/cach...</td>\n",
       "    </tr>\n",
       "  </tbody>\n",
       "</table>\n",
       "</div>"
      ],
      "text/plain": [
       "       name           location                     Date  Rating  \\\n",
       "0     Helen  Wichita Falls, TX  Reviewed Sept. 13, 2023     5.0   \n",
       "1  Courtney         Apopka, FL   Reviewed July 16, 2023     5.0   \n",
       "2  Daynelle  Cranberry Twp, PA    Reviewed July 5, 2023     5.0   \n",
       "3    Taylor        Seattle, WA    Reviewed May 26, 2023     5.0   \n",
       "4   Tenessa        Gresham, OR   Reviewed Jan. 22, 2023     5.0   \n",
       "\n",
       "                                              Review  \\\n",
       "0  Amber and LaDonna at the Starbucks on Southwes...   \n",
       "1  ** at the Starbucks by the fire station on 436...   \n",
       "2  I just wanted to go out of my way to recognize...   \n",
       "3  Me and my friend were at Starbucks and my card...   \n",
       "4  I’m on this kick of drinking 5 cups of warm wa...   \n",
       "\n",
       "                                         Image_Links  \n",
       "0                                      ['No Images']  \n",
       "1                                      ['No Images']  \n",
       "2  ['https://media.consumeraffairs.com/files/cach...  \n",
       "3                                      ['No Images']  \n",
       "4  ['https://media.consumeraffairs.com/files/cach...  "
      ]
     },
     "execution_count": 183,
     "metadata": {},
     "output_type": "execute_result"
    }
   ],
   "source": [
    "df = pd.read_csv('reviews_data.csv')\n",
    "df.head()"
   ]
  },
  {
   "cell_type": "code",
   "execution_count": 172,
   "metadata": {},
   "outputs": [
    {
     "data": {
      "text/plain": [
       "1.0    451\n",
       "2.0     99\n",
       "5.0     83\n",
       "4.0     39\n",
       "3.0     33\n",
       "Name: Rating, dtype: int64"
      ]
     },
     "execution_count": 172,
     "metadata": {},
     "output_type": "execute_result"
    }
   ],
   "source": [
    "df.Rating.value_counts()"
   ]
  },
  {
   "cell_type": "code",
   "execution_count": 173,
   "metadata": {},
   "outputs": [
    {
     "data": {
      "text/plain": [
       "False    705\n",
       "True     145\n",
       "Name: Rating, dtype: int64"
      ]
     },
     "execution_count": 173,
     "metadata": {},
     "output_type": "execute_result"
    }
   ],
   "source": [
    "df.Rating.isnull().value_counts()"
   ]
  },
  {
   "cell_type": "code",
   "execution_count": 56,
   "metadata": {},
   "outputs": [
    {
     "data": {
      "text/plain": [
       "False    705\n",
       "Name: Review, dtype: int64"
      ]
     },
     "execution_count": 56,
     "metadata": {},
     "output_type": "execute_result"
    }
   ],
   "source": [
    "df.Review.isnull().value_counts()"
   ]
  },
  {
   "cell_type": "code",
   "execution_count": 47,
   "metadata": {},
   "outputs": [
    {
     "data": {
      "text/plain": [
       "nan"
      ]
     },
     "execution_count": 47,
     "metadata": {},
     "output_type": "execute_result"
    }
   ],
   "source": [
    "df.Rating[845]"
   ]
  },
  {
   "cell_type": "code",
   "execution_count": 50,
   "metadata": {},
   "outputs": [
    {
     "data": {
      "text/plain": [
       "\"I ordered two venti frappacino's without whipped cream (as my daughter and I are allergic to whipped cream).  The representative made them with whipped cream, then realized the mistake, scraped the cream off and handed them to me. This was very unsatisfactory.  I felt she should have made two fresh drinks. \""
      ]
     },
     "execution_count": 50,
     "metadata": {},
     "output_type": "execute_result"
    }
   ],
   "source": [
    "df.Review[845]"
   ]
  },
  {
   "cell_type": "code",
   "execution_count": 184,
   "metadata": {},
   "outputs": [
    {
     "data": {
      "text/html": [
       "<div>\n",
       "<style scoped>\n",
       "    .dataframe tbody tr th:only-of-type {\n",
       "        vertical-align: middle;\n",
       "    }\n",
       "\n",
       "    .dataframe tbody tr th {\n",
       "        vertical-align: top;\n",
       "    }\n",
       "\n",
       "    .dataframe thead th {\n",
       "        text-align: right;\n",
       "    }\n",
       "</style>\n",
       "<table border=\"1\" class=\"dataframe\">\n",
       "  <thead>\n",
       "    <tr style=\"text-align: right;\">\n",
       "      <th></th>\n",
       "      <th>name</th>\n",
       "      <th>location</th>\n",
       "      <th>Date</th>\n",
       "      <th>Rating</th>\n",
       "      <th>Review</th>\n",
       "      <th>Image_Links</th>\n",
       "      <th>good_bad_review</th>\n",
       "    </tr>\n",
       "  </thead>\n",
       "  <tbody>\n",
       "    <tr>\n",
       "      <th>0</th>\n",
       "      <td>Helen</td>\n",
       "      <td>Wichita Falls, TX</td>\n",
       "      <td>Reviewed Sept. 13, 2023</td>\n",
       "      <td>5.0</td>\n",
       "      <td>Amber and LaDonna at the Starbucks on Southwes...</td>\n",
       "      <td>['No Images']</td>\n",
       "      <td>1</td>\n",
       "    </tr>\n",
       "    <tr>\n",
       "      <th>1</th>\n",
       "      <td>Courtney</td>\n",
       "      <td>Apopka, FL</td>\n",
       "      <td>Reviewed July 16, 2023</td>\n",
       "      <td>5.0</td>\n",
       "      <td>** at the Starbucks by the fire station on 436...</td>\n",
       "      <td>['No Images']</td>\n",
       "      <td>1</td>\n",
       "    </tr>\n",
       "    <tr>\n",
       "      <th>2</th>\n",
       "      <td>Daynelle</td>\n",
       "      <td>Cranberry Twp, PA</td>\n",
       "      <td>Reviewed July 5, 2023</td>\n",
       "      <td>5.0</td>\n",
       "      <td>I just wanted to go out of my way to recognize...</td>\n",
       "      <td>['https://media.consumeraffairs.com/files/cach...</td>\n",
       "      <td>1</td>\n",
       "    </tr>\n",
       "    <tr>\n",
       "      <th>3</th>\n",
       "      <td>Taylor</td>\n",
       "      <td>Seattle, WA</td>\n",
       "      <td>Reviewed May 26, 2023</td>\n",
       "      <td>5.0</td>\n",
       "      <td>Me and my friend were at Starbucks and my card...</td>\n",
       "      <td>['No Images']</td>\n",
       "      <td>1</td>\n",
       "    </tr>\n",
       "    <tr>\n",
       "      <th>4</th>\n",
       "      <td>Tenessa</td>\n",
       "      <td>Gresham, OR</td>\n",
       "      <td>Reviewed Jan. 22, 2023</td>\n",
       "      <td>5.0</td>\n",
       "      <td>I’m on this kick of drinking 5 cups of warm wa...</td>\n",
       "      <td>['https://media.consumeraffairs.com/files/cach...</td>\n",
       "      <td>1</td>\n",
       "    </tr>\n",
       "  </tbody>\n",
       "</table>\n",
       "</div>"
      ],
      "text/plain": [
       "       name           location                     Date  Rating  \\\n",
       "0     Helen  Wichita Falls, TX  Reviewed Sept. 13, 2023     5.0   \n",
       "1  Courtney         Apopka, FL   Reviewed July 16, 2023     5.0   \n",
       "2  Daynelle  Cranberry Twp, PA    Reviewed July 5, 2023     5.0   \n",
       "3    Taylor        Seattle, WA    Reviewed May 26, 2023     5.0   \n",
       "4   Tenessa        Gresham, OR   Reviewed Jan. 22, 2023     5.0   \n",
       "\n",
       "                                              Review  \\\n",
       "0  Amber and LaDonna at the Starbucks on Southwes...   \n",
       "1  ** at the Starbucks by the fire station on 436...   \n",
       "2  I just wanted to go out of my way to recognize...   \n",
       "3  Me and my friend were at Starbucks and my card...   \n",
       "4  I’m on this kick of drinking 5 cups of warm wa...   \n",
       "\n",
       "                                         Image_Links  good_bad_review  \n",
       "0                                      ['No Images']                1  \n",
       "1                                      ['No Images']                1  \n",
       "2  ['https://media.consumeraffairs.com/files/cach...                1  \n",
       "3                                      ['No Images']                1  \n",
       "4  ['https://media.consumeraffairs.com/files/cach...                1  "
      ]
     },
     "execution_count": 184,
     "metadata": {},
     "output_type": "execute_result"
    }
   ],
   "source": [
    "df['good_bad_review'] = df.Rating.apply(lambda x: 1 if x >= 3.0 else 0)\n",
    "df.head()"
   ]
  },
  {
   "cell_type": "code",
   "execution_count": 185,
   "metadata": {},
   "outputs": [
    {
     "data": {
      "text/html": [
       "<div>\n",
       "<style scoped>\n",
       "    .dataframe tbody tr th:only-of-type {\n",
       "        vertical-align: middle;\n",
       "    }\n",
       "\n",
       "    .dataframe tbody tr th {\n",
       "        vertical-align: top;\n",
       "    }\n",
       "\n",
       "    .dataframe thead th {\n",
       "        text-align: right;\n",
       "    }\n",
       "</style>\n",
       "<table border=\"1\" class=\"dataframe\">\n",
       "  <thead>\n",
       "    <tr style=\"text-align: right;\">\n",
       "      <th></th>\n",
       "      <th>name</th>\n",
       "      <th>location</th>\n",
       "      <th>Date</th>\n",
       "      <th>Rating</th>\n",
       "      <th>Review</th>\n",
       "      <th>Image_Links</th>\n",
       "      <th>good_bad_review</th>\n",
       "    </tr>\n",
       "  </thead>\n",
       "  <tbody>\n",
       "    <tr>\n",
       "      <th>704</th>\n",
       "      <td>James</td>\n",
       "      <td>Kansas City, MO</td>\n",
       "      <td>Reviewed July 25, 2011</td>\n",
       "      <td>NaN</td>\n",
       "      <td>I just wanted to amend my email the I sent to ...</td>\n",
       "      <td>['No Images']</td>\n",
       "      <td>0</td>\n",
       "    </tr>\n",
       "    <tr>\n",
       "      <th>705</th>\n",
       "      <td>James</td>\n",
       "      <td>Kansas City, MO</td>\n",
       "      <td>Reviewed July 25, 2011</td>\n",
       "      <td>NaN</td>\n",
       "      <td>Recently, I have gone to your Starbucks at Bar...</td>\n",
       "      <td>['No Images']</td>\n",
       "      <td>0</td>\n",
       "    </tr>\n",
       "    <tr>\n",
       "      <th>706</th>\n",
       "      <td>Mike</td>\n",
       "      <td>Revere, ma</td>\n",
       "      <td>Reviewed June 26, 2011</td>\n",
       "      <td>NaN</td>\n",
       "      <td>Upon my first visit to this location on my way...</td>\n",
       "      <td>['No Images']</td>\n",
       "      <td>0</td>\n",
       "    </tr>\n",
       "    <tr>\n",
       "      <th>707</th>\n",
       "      <td>Hughes</td>\n",
       "      <td>Macclesfield, Other</td>\n",
       "      <td>Reviewed Jan. 13, 2011</td>\n",
       "      <td>NaN</td>\n",
       "      <td>Recently, British Royal Marines in Iraq wrote ...</td>\n",
       "      <td>['No Images']</td>\n",
       "      <td>0</td>\n",
       "    </tr>\n",
       "    <tr>\n",
       "      <th>708</th>\n",
       "      <td>Sherrilynn</td>\n",
       "      <td>Jenison, MI</td>\n",
       "      <td>Reviewed Jan. 4, 2011</td>\n",
       "      <td>NaN</td>\n",
       "      <td>On the way to catch our plane, we got a medium...</td>\n",
       "      <td>['No Images']</td>\n",
       "      <td>0</td>\n",
       "    </tr>\n",
       "  </tbody>\n",
       "</table>\n",
       "</div>"
      ],
      "text/plain": [
       "           name             location                    Date  Rating  \\\n",
       "704       James      Kansas City, MO  Reviewed July 25, 2011     NaN   \n",
       "705       James      Kansas City, MO  Reviewed July 25, 2011     NaN   \n",
       "706        Mike           Revere, ma  Reviewed June 26, 2011     NaN   \n",
       "707      Hughes  Macclesfield, Other  Reviewed Jan. 13, 2011     NaN   \n",
       "708  Sherrilynn          Jenison, MI   Reviewed Jan. 4, 2011     NaN   \n",
       "\n",
       "                                                Review    Image_Links  \\\n",
       "704  I just wanted to amend my email the I sent to ...  ['No Images']   \n",
       "705  Recently, I have gone to your Starbucks at Bar...  ['No Images']   \n",
       "706  Upon my first visit to this location on my way...  ['No Images']   \n",
       "707  Recently, British Royal Marines in Iraq wrote ...  ['No Images']   \n",
       "708  On the way to catch our plane, we got a medium...  ['No Images']   \n",
       "\n",
       "     good_bad_review  \n",
       "704                0  \n",
       "705                0  \n",
       "706                0  \n",
       "707                0  \n",
       "708                0  "
      ]
     },
     "execution_count": 185,
     "metadata": {},
     "output_type": "execute_result"
    }
   ],
   "source": [
    "df_null_rating = df[df.Rating.isnull()]\n",
    "df_null_rating.head()\n"
   ]
  },
  {
   "cell_type": "code",
   "execution_count": 186,
   "metadata": {},
   "outputs": [],
   "source": [
    "df = df.dropna(subset=['Rating'])"
   ]
  },
  {
   "cell_type": "code",
   "execution_count": 187,
   "metadata": {},
   "outputs": [
    {
     "data": {
      "text/html": [
       "<div>\n",
       "<style scoped>\n",
       "    .dataframe tbody tr th:only-of-type {\n",
       "        vertical-align: middle;\n",
       "    }\n",
       "\n",
       "    .dataframe tbody tr th {\n",
       "        vertical-align: top;\n",
       "    }\n",
       "\n",
       "    .dataframe thead th {\n",
       "        text-align: right;\n",
       "    }\n",
       "</style>\n",
       "<table border=\"1\" class=\"dataframe\">\n",
       "  <thead>\n",
       "    <tr style=\"text-align: right;\">\n",
       "      <th></th>\n",
       "      <th>name</th>\n",
       "      <th>location</th>\n",
       "      <th>Date</th>\n",
       "      <th>Rating</th>\n",
       "      <th>Review</th>\n",
       "      <th>Image_Links</th>\n",
       "      <th>good_bad_review</th>\n",
       "    </tr>\n",
       "  </thead>\n",
       "  <tbody>\n",
       "    <tr>\n",
       "      <th>0</th>\n",
       "      <td>Helen</td>\n",
       "      <td>Wichita Falls, TX</td>\n",
       "      <td>Reviewed Sept. 13, 2023</td>\n",
       "      <td>5.0</td>\n",
       "      <td>Amber and LaDonna at the Starbucks on Southwes...</td>\n",
       "      <td>['No Images']</td>\n",
       "      <td>1</td>\n",
       "    </tr>\n",
       "    <tr>\n",
       "      <th>1</th>\n",
       "      <td>Courtney</td>\n",
       "      <td>Apopka, FL</td>\n",
       "      <td>Reviewed July 16, 2023</td>\n",
       "      <td>5.0</td>\n",
       "      <td>** at the Starbucks by the fire station on 436...</td>\n",
       "      <td>['No Images']</td>\n",
       "      <td>1</td>\n",
       "    </tr>\n",
       "    <tr>\n",
       "      <th>2</th>\n",
       "      <td>Daynelle</td>\n",
       "      <td>Cranberry Twp, PA</td>\n",
       "      <td>Reviewed July 5, 2023</td>\n",
       "      <td>5.0</td>\n",
       "      <td>I just wanted to go out of my way to recognize...</td>\n",
       "      <td>['https://media.consumeraffairs.com/files/cach...</td>\n",
       "      <td>1</td>\n",
       "    </tr>\n",
       "    <tr>\n",
       "      <th>3</th>\n",
       "      <td>Taylor</td>\n",
       "      <td>Seattle, WA</td>\n",
       "      <td>Reviewed May 26, 2023</td>\n",
       "      <td>5.0</td>\n",
       "      <td>Me and my friend were at Starbucks and my card...</td>\n",
       "      <td>['No Images']</td>\n",
       "      <td>1</td>\n",
       "    </tr>\n",
       "    <tr>\n",
       "      <th>4</th>\n",
       "      <td>Tenessa</td>\n",
       "      <td>Gresham, OR</td>\n",
       "      <td>Reviewed Jan. 22, 2023</td>\n",
       "      <td>5.0</td>\n",
       "      <td>I’m on this kick of drinking 5 cups of warm wa...</td>\n",
       "      <td>['https://media.consumeraffairs.com/files/cach...</td>\n",
       "      <td>1</td>\n",
       "    </tr>\n",
       "  </tbody>\n",
       "</table>\n",
       "</div>"
      ],
      "text/plain": [
       "       name           location                     Date  Rating  \\\n",
       "0     Helen  Wichita Falls, TX  Reviewed Sept. 13, 2023     5.0   \n",
       "1  Courtney         Apopka, FL   Reviewed July 16, 2023     5.0   \n",
       "2  Daynelle  Cranberry Twp, PA    Reviewed July 5, 2023     5.0   \n",
       "3    Taylor        Seattle, WA    Reviewed May 26, 2023     5.0   \n",
       "4   Tenessa        Gresham, OR   Reviewed Jan. 22, 2023     5.0   \n",
       "\n",
       "                                              Review  \\\n",
       "0  Amber and LaDonna at the Starbucks on Southwes...   \n",
       "1  ** at the Starbucks by the fire station on 436...   \n",
       "2  I just wanted to go out of my way to recognize...   \n",
       "3  Me and my friend were at Starbucks and my card...   \n",
       "4  I’m on this kick of drinking 5 cups of warm wa...   \n",
       "\n",
       "                                         Image_Links  good_bad_review  \n",
       "0                                      ['No Images']                1  \n",
       "1                                      ['No Images']                1  \n",
       "2  ['https://media.consumeraffairs.com/files/cach...                1  \n",
       "3                                      ['No Images']                1  \n",
       "4  ['https://media.consumeraffairs.com/files/cach...                1  "
      ]
     },
     "execution_count": 187,
     "metadata": {},
     "output_type": "execute_result"
    }
   ],
   "source": [
    "df.head()"
   ]
  },
  {
   "cell_type": "code",
   "execution_count": 192,
   "metadata": {},
   "outputs": [
    {
     "data": {
      "text/html": [
       "<div>\n",
       "<style scoped>\n",
       "    .dataframe tbody tr th:only-of-type {\n",
       "        vertical-align: middle;\n",
       "    }\n",
       "\n",
       "    .dataframe tbody tr th {\n",
       "        vertical-align: top;\n",
       "    }\n",
       "\n",
       "    .dataframe thead th {\n",
       "        text-align: right;\n",
       "    }\n",
       "</style>\n",
       "<table border=\"1\" class=\"dataframe\">\n",
       "  <thead>\n",
       "    <tr style=\"text-align: right;\">\n",
       "      <th></th>\n",
       "      <th>name</th>\n",
       "      <th>location</th>\n",
       "      <th>Date</th>\n",
       "      <th>Rating</th>\n",
       "      <th>Review</th>\n",
       "      <th>Image_Links</th>\n",
       "    </tr>\n",
       "  </thead>\n",
       "  <tbody>\n",
       "    <tr>\n",
       "      <th>704</th>\n",
       "      <td>James</td>\n",
       "      <td>Kansas City, MO</td>\n",
       "      <td>Reviewed July 25, 2011</td>\n",
       "      <td>NaN</td>\n",
       "      <td>I just wanted to amend my email the I sent to ...</td>\n",
       "      <td>['No Images']</td>\n",
       "    </tr>\n",
       "    <tr>\n",
       "      <th>705</th>\n",
       "      <td>James</td>\n",
       "      <td>Kansas City, MO</td>\n",
       "      <td>Reviewed July 25, 2011</td>\n",
       "      <td>NaN</td>\n",
       "      <td>Recently, I have gone to your Starbucks at Bar...</td>\n",
       "      <td>['No Images']</td>\n",
       "    </tr>\n",
       "    <tr>\n",
       "      <th>706</th>\n",
       "      <td>Mike</td>\n",
       "      <td>Revere, ma</td>\n",
       "      <td>Reviewed June 26, 2011</td>\n",
       "      <td>NaN</td>\n",
       "      <td>Upon my first visit to this location on my way...</td>\n",
       "      <td>['No Images']</td>\n",
       "    </tr>\n",
       "    <tr>\n",
       "      <th>707</th>\n",
       "      <td>Hughes</td>\n",
       "      <td>Macclesfield, Other</td>\n",
       "      <td>Reviewed Jan. 13, 2011</td>\n",
       "      <td>NaN</td>\n",
       "      <td>Recently, British Royal Marines in Iraq wrote ...</td>\n",
       "      <td>['No Images']</td>\n",
       "    </tr>\n",
       "    <tr>\n",
       "      <th>708</th>\n",
       "      <td>Sherrilynn</td>\n",
       "      <td>Jenison, MI</td>\n",
       "      <td>Reviewed Jan. 4, 2011</td>\n",
       "      <td>NaN</td>\n",
       "      <td>On the way to catch our plane, we got a medium...</td>\n",
       "      <td>['No Images']</td>\n",
       "    </tr>\n",
       "    <tr>\n",
       "      <th>...</th>\n",
       "      <td>...</td>\n",
       "      <td>...</td>\n",
       "      <td>...</td>\n",
       "      <td>...</td>\n",
       "      <td>...</td>\n",
       "      <td>...</td>\n",
       "    </tr>\n",
       "    <tr>\n",
       "      <th>845</th>\n",
       "      <td>Becky</td>\n",
       "      <td>Agoura Hills, CA</td>\n",
       "      <td>Reviewed July 13, 2006</td>\n",
       "      <td>NaN</td>\n",
       "      <td>I ordered two venti frappacino's without whipp...</td>\n",
       "      <td>['No Images']</td>\n",
       "    </tr>\n",
       "    <tr>\n",
       "      <th>846</th>\n",
       "      <td>Bob</td>\n",
       "      <td>Goodrich, MI</td>\n",
       "      <td>Reviewed Jan. 3, 2005</td>\n",
       "      <td>NaN</td>\n",
       "      <td>No Review Text</td>\n",
       "      <td>['No Images']</td>\n",
       "    </tr>\n",
       "    <tr>\n",
       "      <th>847</th>\n",
       "      <td>Erik</td>\n",
       "      <td>Valley Village, CA</td>\n",
       "      <td>Reviewed Nov. 5, 2004</td>\n",
       "      <td>NaN</td>\n",
       "      <td>DEMANDED TIPS FROM ME, THEN MADE ME WAIT UNTIL...</td>\n",
       "      <td>['No Images']</td>\n",
       "    </tr>\n",
       "    <tr>\n",
       "      <th>848</th>\n",
       "      <td>Andrew</td>\n",
       "      <td>Fallbrook, CA</td>\n",
       "      <td>Reviewed Oct. 20, 2004</td>\n",
       "      <td>NaN</td>\n",
       "      <td>No Review Text</td>\n",
       "      <td>['No Images']</td>\n",
       "    </tr>\n",
       "    <tr>\n",
       "      <th>849</th>\n",
       "      <td>Christian</td>\n",
       "      <td>Ramsey, NJ</td>\n",
       "      <td>Reviewed July 19, 2000</td>\n",
       "      <td>NaN</td>\n",
       "      <td>No Review Text</td>\n",
       "      <td>['No Images']</td>\n",
       "    </tr>\n",
       "  </tbody>\n",
       "</table>\n",
       "<p>145 rows × 6 columns</p>\n",
       "</div>"
      ],
      "text/plain": [
       "           name             location                    Date  Rating  \\\n",
       "704       James      Kansas City, MO  Reviewed July 25, 2011     NaN   \n",
       "705       James      Kansas City, MO  Reviewed July 25, 2011     NaN   \n",
       "706        Mike           Revere, ma  Reviewed June 26, 2011     NaN   \n",
       "707      Hughes  Macclesfield, Other  Reviewed Jan. 13, 2011     NaN   \n",
       "708  Sherrilynn          Jenison, MI   Reviewed Jan. 4, 2011     NaN   \n",
       "..          ...                  ...                     ...     ...   \n",
       "845       Becky     Agoura Hills, CA  Reviewed July 13, 2006     NaN   \n",
       "846         Bob         Goodrich, MI   Reviewed Jan. 3, 2005     NaN   \n",
       "847        Erik   Valley Village, CA   Reviewed Nov. 5, 2004     NaN   \n",
       "848      Andrew        Fallbrook, CA  Reviewed Oct. 20, 2004     NaN   \n",
       "849   Christian           Ramsey, NJ  Reviewed July 19, 2000     NaN   \n",
       "\n",
       "                                                Review    Image_Links  \n",
       "704  I just wanted to amend my email the I sent to ...  ['No Images']  \n",
       "705  Recently, I have gone to your Starbucks at Bar...  ['No Images']  \n",
       "706  Upon my first visit to this location on my way...  ['No Images']  \n",
       "707  Recently, British Royal Marines in Iraq wrote ...  ['No Images']  \n",
       "708  On the way to catch our plane, we got a medium...  ['No Images']  \n",
       "..                                                 ...            ...  \n",
       "845  I ordered two venti frappacino's without whipp...  ['No Images']  \n",
       "846                                     No Review Text  ['No Images']  \n",
       "847  DEMANDED TIPS FROM ME, THEN MADE ME WAIT UNTIL...  ['No Images']  \n",
       "848                                     No Review Text  ['No Images']  \n",
       "849                                     No Review Text  ['No Images']  \n",
       "\n",
       "[145 rows x 6 columns]"
      ]
     },
     "execution_count": 192,
     "metadata": {},
     "output_type": "execute_result"
    }
   ],
   "source": [
    "df_null_rating.head()\n",
    "df_null_rating.drop(['good_bad_review'], axis=1)"
   ]
  },
  {
   "cell_type": "code",
   "execution_count": 193,
   "metadata": {},
   "outputs": [],
   "source": [
    "import spacy\n",
    "nlp = spacy.load(\"en_core_web_lg\") "
   ]
  },
  {
   "cell_type": "code",
   "execution_count": 194,
   "metadata": {},
   "outputs": [],
   "source": [
    "def preprocess(text):\n",
    "    # remove stop words and lemmatize the text\n",
    "    doc = nlp(text)\n",
    "    filtered_tokens = []\n",
    "    for token in doc:\n",
    "        if token.is_punct or token.is_stop or token.like_url or token.ent_type_=='PERSON':\n",
    "            continue\n",
    "        filtered_tokens.append(token.lemma_.lower())\n",
    "    return \" \".join(filtered_tokens)"
   ]
  },
  {
   "cell_type": "code",
   "execution_count": 82,
   "metadata": {},
   "outputs": [
    {
     "data": {
      "text/plain": [
       "'Amber and LaDonna at the Starbucks on Southwest Parkway are always so warm and welcoming. There is always a smile in their voice when they greet you at the drive-thru. And their customer service is always spot-on, they always get my order right and with a smile. I would actually give them more than 5 stars if they were available.'"
      ]
     },
     "execution_count": 82,
     "metadata": {},
     "output_type": "execute_result"
    }
   ],
   "source": [
    "df.Review[0]"
   ]
  },
  {
   "cell_type": "code",
   "execution_count": 195,
   "metadata": {},
   "outputs": [
    {
     "data": {
      "text/plain": [
       "'amber starbucks southwest parkway warm welcoming smile voice greet drive customer service spot order right smile actually 5 star available'"
      ]
     },
     "execution_count": 195,
     "metadata": {},
     "output_type": "execute_result"
    }
   ],
   "source": [
    "preprocess(df.Review[0])"
   ]
  },
  {
   "cell_type": "code",
   "execution_count": 196,
   "metadata": {},
   "outputs": [],
   "source": [
    "df['clean_review'] = df['Review'].apply(lambda x: preprocess(x))"
   ]
  },
  {
   "cell_type": "code",
   "execution_count": 197,
   "metadata": {},
   "outputs": [
    {
     "data": {
      "text/html": [
       "<div>\n",
       "<style scoped>\n",
       "    .dataframe tbody tr th:only-of-type {\n",
       "        vertical-align: middle;\n",
       "    }\n",
       "\n",
       "    .dataframe tbody tr th {\n",
       "        vertical-align: top;\n",
       "    }\n",
       "\n",
       "    .dataframe thead th {\n",
       "        text-align: right;\n",
       "    }\n",
       "</style>\n",
       "<table border=\"1\" class=\"dataframe\">\n",
       "  <thead>\n",
       "    <tr style=\"text-align: right;\">\n",
       "      <th></th>\n",
       "      <th>name</th>\n",
       "      <th>location</th>\n",
       "      <th>Date</th>\n",
       "      <th>Rating</th>\n",
       "      <th>Review</th>\n",
       "      <th>Image_Links</th>\n",
       "      <th>good_bad_review</th>\n",
       "      <th>clean_review</th>\n",
       "    </tr>\n",
       "  </thead>\n",
       "  <tbody>\n",
       "    <tr>\n",
       "      <th>0</th>\n",
       "      <td>Helen</td>\n",
       "      <td>Wichita Falls, TX</td>\n",
       "      <td>Reviewed Sept. 13, 2023</td>\n",
       "      <td>5.0</td>\n",
       "      <td>Amber and LaDonna at the Starbucks on Southwes...</td>\n",
       "      <td>['No Images']</td>\n",
       "      <td>1</td>\n",
       "      <td>amber starbucks southwest parkway warm welcomi...</td>\n",
       "    </tr>\n",
       "    <tr>\n",
       "      <th>1</th>\n",
       "      <td>Courtney</td>\n",
       "      <td>Apopka, FL</td>\n",
       "      <td>Reviewed July 16, 2023</td>\n",
       "      <td>5.0</td>\n",
       "      <td>** at the Starbucks by the fire station on 436...</td>\n",
       "      <td>['No Images']</td>\n",
       "      <td>1</td>\n",
       "      <td>starbucks fire station 436 altamonte springs f...</td>\n",
       "    </tr>\n",
       "    <tr>\n",
       "      <th>2</th>\n",
       "      <td>Daynelle</td>\n",
       "      <td>Cranberry Twp, PA</td>\n",
       "      <td>Reviewed July 5, 2023</td>\n",
       "      <td>5.0</td>\n",
       "      <td>I just wanted to go out of my way to recognize...</td>\n",
       "      <td>['https://media.consumeraffairs.com/files/cach...</td>\n",
       "      <td>1</td>\n",
       "      <td>want way recognize starbucks employee franklin...</td>\n",
       "    </tr>\n",
       "    <tr>\n",
       "      <th>3</th>\n",
       "      <td>Taylor</td>\n",
       "      <td>Seattle, WA</td>\n",
       "      <td>Reviewed May 26, 2023</td>\n",
       "      <td>5.0</td>\n",
       "      <td>Me and my friend were at Starbucks and my card...</td>\n",
       "      <td>['No Images']</td>\n",
       "      <td>1</td>\n",
       "      <td>friend starbucks card work thankful worker pay...</td>\n",
       "    </tr>\n",
       "    <tr>\n",
       "      <th>4</th>\n",
       "      <td>Tenessa</td>\n",
       "      <td>Gresham, OR</td>\n",
       "      <td>Reviewed Jan. 22, 2023</td>\n",
       "      <td>5.0</td>\n",
       "      <td>I’m on this kick of drinking 5 cups of warm wa...</td>\n",
       "      <td>['https://media.consumeraffairs.com/files/cach...</td>\n",
       "      <td>1</td>\n",
       "      <td>kick drink 5 cup warm water work instacart rig...</td>\n",
       "    </tr>\n",
       "  </tbody>\n",
       "</table>\n",
       "</div>"
      ],
      "text/plain": [
       "       name           location                     Date  Rating  \\\n",
       "0     Helen  Wichita Falls, TX  Reviewed Sept. 13, 2023     5.0   \n",
       "1  Courtney         Apopka, FL   Reviewed July 16, 2023     5.0   \n",
       "2  Daynelle  Cranberry Twp, PA    Reviewed July 5, 2023     5.0   \n",
       "3    Taylor        Seattle, WA    Reviewed May 26, 2023     5.0   \n",
       "4   Tenessa        Gresham, OR   Reviewed Jan. 22, 2023     5.0   \n",
       "\n",
       "                                              Review  \\\n",
       "0  Amber and LaDonna at the Starbucks on Southwes...   \n",
       "1  ** at the Starbucks by the fire station on 436...   \n",
       "2  I just wanted to go out of my way to recognize...   \n",
       "3  Me and my friend were at Starbucks and my card...   \n",
       "4  I’m on this kick of drinking 5 cups of warm wa...   \n",
       "\n",
       "                                         Image_Links  good_bad_review  \\\n",
       "0                                      ['No Images']                1   \n",
       "1                                      ['No Images']                1   \n",
       "2  ['https://media.consumeraffairs.com/files/cach...                1   \n",
       "3                                      ['No Images']                1   \n",
       "4  ['https://media.consumeraffairs.com/files/cach...                1   \n",
       "\n",
       "                                        clean_review  \n",
       "0  amber starbucks southwest parkway warm welcomi...  \n",
       "1  starbucks fire station 436 altamonte springs f...  \n",
       "2  want way recognize starbucks employee franklin...  \n",
       "3  friend starbucks card work thankful worker pay...  \n",
       "4  kick drink 5 cup warm water work instacart rig...  "
      ]
     },
     "execution_count": 197,
     "metadata": {},
     "output_type": "execute_result"
    }
   ],
   "source": [
    "df.head()"
   ]
  },
  {
   "cell_type": "code",
   "execution_count": 198,
   "metadata": {},
   "outputs": [
    {
     "data": {
      "text/plain": [
       "'want way recognize starbucks employee franklin park location run late work place order wrong location order smile 60 second thank soo have bad morning people like world well place'"
      ]
     },
     "execution_count": 198,
     "metadata": {},
     "output_type": "execute_result"
    }
   ],
   "source": [
    "df.clean_review[2]"
   ]
  },
  {
   "cell_type": "code",
   "execution_count": 199,
   "metadata": {},
   "outputs": [
    {
     "data": {
      "text/plain": [
       "1.0    451\n",
       "2.0     99\n",
       "5.0     83\n",
       "4.0     39\n",
       "3.0     33\n",
       "Name: Rating, dtype: int64"
      ]
     },
     "execution_count": 199,
     "metadata": {},
     "output_type": "execute_result"
    }
   ],
   "source": [
    "df.Rating.value_counts()"
   ]
  },
  {
   "cell_type": "code",
   "execution_count": 200,
   "metadata": {},
   "outputs": [
    {
     "data": {
      "text/plain": [
       "0    550\n",
       "1    155\n",
       "Name: good_bad_review, dtype: int64"
      ]
     },
     "execution_count": 200,
     "metadata": {},
     "output_type": "execute_result"
    }
   ],
   "source": [
    "df.good_bad_review.value_counts()"
   ]
  },
  {
   "cell_type": "code",
   "execution_count": 201,
   "metadata": {},
   "outputs": [],
   "source": [
    "from sklearn.model_selection import train_test_split\n",
    "from sklearn.pipeline import Pipeline\n",
    "from sklearn.linear_model import LogisticRegression\n",
    "\n",
    "from sklearn.metrics import classification_report, confusion_matrix\n",
    "\n",
    "from sklearn.feature_extraction.text import CountVectorizer\n",
    "\n",
    "from matplotlib import pyplot as plt\n",
    "import seaborn as sn"
   ]
  },
  {
   "cell_type": "code",
   "execution_count": 202,
   "metadata": {},
   "outputs": [],
   "source": [
    "X = df.clean_review\n",
    "y = df.good_bad_review"
   ]
  },
  {
   "cell_type": "code",
   "execution_count": 203,
   "metadata": {},
   "outputs": [],
   "source": [
    "X_train, X_test, y_train, y_test = train_test_split(\n",
    "    X, y, \n",
    "    test_size=0.1, \n",
    "    stratify=df.good_bad_review, \n",
    "    random_state=20\n",
    "    )"
   ]
  },
  {
   "cell_type": "code",
   "execution_count": 204,
   "metadata": {},
   "outputs": [
    {
     "data": {
      "text/html": [
       "<style>#sk-container-id-12 {color: black;}#sk-container-id-12 pre{padding: 0;}#sk-container-id-12 div.sk-toggleable {background-color: white;}#sk-container-id-12 label.sk-toggleable__label {cursor: pointer;display: block;width: 100%;margin-bottom: 0;padding: 0.3em;box-sizing: border-box;text-align: center;}#sk-container-id-12 label.sk-toggleable__label-arrow:before {content: \"▸\";float: left;margin-right: 0.25em;color: #696969;}#sk-container-id-12 label.sk-toggleable__label-arrow:hover:before {color: black;}#sk-container-id-12 div.sk-estimator:hover label.sk-toggleable__label-arrow:before {color: black;}#sk-container-id-12 div.sk-toggleable__content {max-height: 0;max-width: 0;overflow: hidden;text-align: left;background-color: #f0f8ff;}#sk-container-id-12 div.sk-toggleable__content pre {margin: 0.2em;color: black;border-radius: 0.25em;background-color: #f0f8ff;}#sk-container-id-12 input.sk-toggleable__control:checked~div.sk-toggleable__content {max-height: 200px;max-width: 100%;overflow: auto;}#sk-container-id-12 input.sk-toggleable__control:checked~label.sk-toggleable__label-arrow:before {content: \"▾\";}#sk-container-id-12 div.sk-estimator input.sk-toggleable__control:checked~label.sk-toggleable__label {background-color: #d4ebff;}#sk-container-id-12 div.sk-label input.sk-toggleable__control:checked~label.sk-toggleable__label {background-color: #d4ebff;}#sk-container-id-12 input.sk-hidden--visually {border: 0;clip: rect(1px 1px 1px 1px);clip: rect(1px, 1px, 1px, 1px);height: 1px;margin: -1px;overflow: hidden;padding: 0;position: absolute;width: 1px;}#sk-container-id-12 div.sk-estimator {font-family: monospace;background-color: #f0f8ff;border: 1px dotted black;border-radius: 0.25em;box-sizing: border-box;margin-bottom: 0.5em;}#sk-container-id-12 div.sk-estimator:hover {background-color: #d4ebff;}#sk-container-id-12 div.sk-parallel-item::after {content: \"\";width: 100%;border-bottom: 1px solid gray;flex-grow: 1;}#sk-container-id-12 div.sk-label:hover label.sk-toggleable__label {background-color: #d4ebff;}#sk-container-id-12 div.sk-serial::before {content: \"\";position: absolute;border-left: 1px solid gray;box-sizing: border-box;top: 0;bottom: 0;left: 50%;z-index: 0;}#sk-container-id-12 div.sk-serial {display: flex;flex-direction: column;align-items: center;background-color: white;padding-right: 0.2em;padding-left: 0.2em;position: relative;}#sk-container-id-12 div.sk-item {position: relative;z-index: 1;}#sk-container-id-12 div.sk-parallel {display: flex;align-items: stretch;justify-content: center;background-color: white;position: relative;}#sk-container-id-12 div.sk-item::before, #sk-container-id-12 div.sk-parallel-item::before {content: \"\";position: absolute;border-left: 1px solid gray;box-sizing: border-box;top: 0;bottom: 0;left: 50%;z-index: -1;}#sk-container-id-12 div.sk-parallel-item {display: flex;flex-direction: column;z-index: 1;position: relative;background-color: white;}#sk-container-id-12 div.sk-parallel-item:first-child::after {align-self: flex-end;width: 50%;}#sk-container-id-12 div.sk-parallel-item:last-child::after {align-self: flex-start;width: 50%;}#sk-container-id-12 div.sk-parallel-item:only-child::after {width: 0;}#sk-container-id-12 div.sk-dashed-wrapped {border: 1px dashed gray;margin: 0 0.4em 0.5em 0.4em;box-sizing: border-box;padding-bottom: 0.4em;background-color: white;}#sk-container-id-12 div.sk-label label {font-family: monospace;font-weight: bold;display: inline-block;line-height: 1.2em;}#sk-container-id-12 div.sk-label-container {text-align: center;}#sk-container-id-12 div.sk-container {/* jupyter's `normalize.less` sets `[hidden] { display: none; }` but bootstrap.min.css set `[hidden] { display: none !important; }` so we also need the `!important` here to be able to override the default hidden behavior on the sphinx rendered scikit-learn.org. See: https://github.com/scikit-learn/scikit-learn/issues/21755 */display: inline-block !important;position: relative;}#sk-container-id-12 div.sk-text-repr-fallback {display: none;}</style><div id=\"sk-container-id-12\" class=\"sk-top-container\"><div class=\"sk-text-repr-fallback\"><pre>Pipeline(steps=[(&#x27;bow&#x27;, CountVectorizer()),\n",
       "                (&#x27;log regression&#x27;, LogisticRegression())])</pre><b>In a Jupyter environment, please rerun this cell to show the HTML representation or trust the notebook. <br />On GitHub, the HTML representation is unable to render, please try loading this page with nbviewer.org.</b></div><div class=\"sk-container\" hidden><div class=\"sk-item sk-dashed-wrapped\"><div class=\"sk-label-container\"><div class=\"sk-label sk-toggleable\"><input class=\"sk-toggleable__control sk-hidden--visually\" id=\"sk-estimator-id-34\" type=\"checkbox\" ><label for=\"sk-estimator-id-34\" class=\"sk-toggleable__label sk-toggleable__label-arrow\">Pipeline</label><div class=\"sk-toggleable__content\"><pre>Pipeline(steps=[(&#x27;bow&#x27;, CountVectorizer()),\n",
       "                (&#x27;log regression&#x27;, LogisticRegression())])</pre></div></div></div><div class=\"sk-serial\"><div class=\"sk-item\"><div class=\"sk-estimator sk-toggleable\"><input class=\"sk-toggleable__control sk-hidden--visually\" id=\"sk-estimator-id-35\" type=\"checkbox\" ><label for=\"sk-estimator-id-35\" class=\"sk-toggleable__label sk-toggleable__label-arrow\">CountVectorizer</label><div class=\"sk-toggleable__content\"><pre>CountVectorizer()</pre></div></div></div><div class=\"sk-item\"><div class=\"sk-estimator sk-toggleable\"><input class=\"sk-toggleable__control sk-hidden--visually\" id=\"sk-estimator-id-36\" type=\"checkbox\" ><label for=\"sk-estimator-id-36\" class=\"sk-toggleable__label sk-toggleable__label-arrow\">LogisticRegression</label><div class=\"sk-toggleable__content\"><pre>LogisticRegression()</pre></div></div></div></div></div></div></div>"
      ],
      "text/plain": [
       "Pipeline(steps=[('bow', CountVectorizer()),\n",
       "                ('log regression', LogisticRegression())])"
      ]
     },
     "execution_count": 204,
     "metadata": {},
     "output_type": "execute_result"
    }
   ],
   "source": [
    "clf = Pipeline([\n",
    "    ('bow', CountVectorizer()),\n",
    "    ('log regression', LogisticRegression())\n",
    "])\n",
    "clf.fit(X_train,y_train)"
   ]
  },
  {
   "cell_type": "code",
   "execution_count": 205,
   "metadata": {},
   "outputs": [
    {
     "data": {
      "text/plain": [
       "1.0"
      ]
     },
     "execution_count": 205,
     "metadata": {},
     "output_type": "execute_result"
    }
   ],
   "source": [
    "clf.score(X_train,y_train)"
   ]
  },
  {
   "cell_type": "code",
   "execution_count": 206,
   "metadata": {},
   "outputs": [
    {
     "name": "stdout",
     "output_type": "stream",
     "text": [
      "              precision    recall  f1-score   support\n",
      "\n",
      "           0       0.88      0.93      0.90        55\n",
      "           1       0.69      0.56      0.62        16\n",
      "\n",
      "    accuracy                           0.85        71\n",
      "   macro avg       0.79      0.74      0.76        71\n",
      "weighted avg       0.84      0.85      0.84        71\n",
      "\n"
     ]
    }
   ],
   "source": [
    "y_pred = clf.predict(X_test)\n",
    "print(classification_report(y_test, y_pred))"
   ]
  },
  {
   "cell_type": "code",
   "execution_count": 207,
   "metadata": {},
   "outputs": [
    {
     "data": {
      "text/plain": [
       "array([[51,  4],\n",
       "       [ 7,  9]], dtype=int64)"
      ]
     },
     "execution_count": 207,
     "metadata": {},
     "output_type": "execute_result"
    }
   ],
   "source": [
    "cm = confusion_matrix(y_test, y_pred)\n",
    "cm"
   ]
  },
  {
   "cell_type": "code",
   "execution_count": 208,
   "metadata": {},
   "outputs": [
    {
     "data": {
      "text/plain": [
       "Text(33.0, 0.5, 'true')"
      ]
     },
     "execution_count": 208,
     "metadata": {},
     "output_type": "execute_result"
    },
    {
     "data": {
      "image/png": "[encoded data removed]",
      "text/plain": [
       "<Figure size 432x288 with 2 Axes>"
      ]
     },
     "metadata": {
      "needs_background": "light"
     },
     "output_type": "display_data"
    }
   ],
   "source": [
    "sn.heatmap(cm, annot=True,)\n",
    "plt.xlabel('predicted')\n",
    "plt.ylabel('true')"
   ]
  },
  {
   "cell_type": "code",
   "execution_count": 229,
   "metadata": {},
   "outputs": [
    {
     "data": {
      "text/plain": [
       "array([1], dtype=int64)"
      ]
     },
     "execution_count": 229,
     "metadata": {},
     "output_type": "execute_result"
    }
   ],
   "source": [
    "clf.predict([\"this is some good great text\"])"
   ]
  },
  {
   "cell_type": "markdown",
   "metadata": {},
   "source": [
    "### Prediction on unrated reviews"
   ]
  },
  {
   "cell_type": "code",
   "execution_count": 214,
   "metadata": {},
   "outputs": [],
   "source": [
    "df_null_rating['clean_review'] = df_null_rating.Review.apply(preprocess)\n"
   ]
  },
  {
   "cell_type": "code",
   "execution_count": 231,
   "metadata": {},
   "outputs": [
    {
     "data": {
      "text/html": [
       "<div>\n",
       "<style scoped>\n",
       "    .dataframe tbody tr th:only-of-type {\n",
       "        vertical-align: middle;\n",
       "    }\n",
       "\n",
       "    .dataframe tbody tr th {\n",
       "        vertical-align: top;\n",
       "    }\n",
       "\n",
       "    .dataframe thead th {\n",
       "        text-align: right;\n",
       "    }\n",
       "</style>\n",
       "<table border=\"1\" class=\"dataframe\">\n",
       "  <thead>\n",
       "    <tr style=\"text-align: right;\">\n",
       "      <th></th>\n",
       "      <th>name</th>\n",
       "      <th>location</th>\n",
       "      <th>Date</th>\n",
       "      <th>Rating</th>\n",
       "      <th>Review</th>\n",
       "      <th>Image_Links</th>\n",
       "      <th>good_bad_review</th>\n",
       "      <th>clean_review</th>\n",
       "    </tr>\n",
       "  </thead>\n",
       "  <tbody>\n",
       "    <tr>\n",
       "      <th>704</th>\n",
       "      <td>James</td>\n",
       "      <td>Kansas City, MO</td>\n",
       "      <td>Reviewed July 25, 2011</td>\n",
       "      <td>NaN</td>\n",
       "      <td>I just wanted to amend my email the I sent to ...</td>\n",
       "      <td>['No Images']</td>\n",
       "      <td>0</td>\n",
       "      <td>want amend email send hour ago rude obnoxious ...</td>\n",
       "    </tr>\n",
       "    <tr>\n",
       "      <th>705</th>\n",
       "      <td>James</td>\n",
       "      <td>Kansas City, MO</td>\n",
       "      <td>Reviewed July 25, 2011</td>\n",
       "      <td>NaN</td>\n",
       "      <td>Recently, I have gone to your Starbucks at Bar...</td>\n",
       "      <td>['No Images']</td>\n",
       "      <td>0</td>\n",
       "      <td>recently go starbucks barry rd kansas city mo....</td>\n",
       "    </tr>\n",
       "    <tr>\n",
       "      <th>706</th>\n",
       "      <td>Mike</td>\n",
       "      <td>Revere, ma</td>\n",
       "      <td>Reviewed June 26, 2011</td>\n",
       "      <td>NaN</td>\n",
       "      <td>Upon my first visit to this location on my way...</td>\n",
       "      <td>['No Images']</td>\n",
       "      <td>0</td>\n",
       "      <td>visit location way work go cup coffee attentio...</td>\n",
       "    </tr>\n",
       "    <tr>\n",
       "      <th>707</th>\n",
       "      <td>Hughes</td>\n",
       "      <td>Macclesfield, Other</td>\n",
       "      <td>Reviewed Jan. 13, 2011</td>\n",
       "      <td>NaN</td>\n",
       "      <td>Recently, British Royal Marines in Iraq wrote ...</td>\n",
       "      <td>['No Images']</td>\n",
       "      <td>0</td>\n",
       "      <td>recently british royal marines iraq write star...</td>\n",
       "    </tr>\n",
       "    <tr>\n",
       "      <th>708</th>\n",
       "      <td>Sherrilynn</td>\n",
       "      <td>Jenison, MI</td>\n",
       "      <td>Reviewed Jan. 4, 2011</td>\n",
       "      <td>NaN</td>\n",
       "      <td>On the way to catch our plane, we got a medium...</td>\n",
       "      <td>['No Images']</td>\n",
       "      <td>0</td>\n",
       "      <td>way catch plane get medium coffee medium hot c...</td>\n",
       "    </tr>\n",
       "  </tbody>\n",
       "</table>\n",
       "</div>"
      ],
      "text/plain": [
       "           name             location                    Date  Rating  \\\n",
       "704       James      Kansas City, MO  Reviewed July 25, 2011     NaN   \n",
       "705       James      Kansas City, MO  Reviewed July 25, 2011     NaN   \n",
       "706        Mike           Revere, ma  Reviewed June 26, 2011     NaN   \n",
       "707      Hughes  Macclesfield, Other  Reviewed Jan. 13, 2011     NaN   \n",
       "708  Sherrilynn          Jenison, MI   Reviewed Jan. 4, 2011     NaN   \n",
       "\n",
       "                                                Review    Image_Links  \\\n",
       "704  I just wanted to amend my email the I sent to ...  ['No Images']   \n",
       "705  Recently, I have gone to your Starbucks at Bar...  ['No Images']   \n",
       "706  Upon my first visit to this location on my way...  ['No Images']   \n",
       "707  Recently, British Royal Marines in Iraq wrote ...  ['No Images']   \n",
       "708  On the way to catch our plane, we got a medium...  ['No Images']   \n",
       "\n",
       "     good_bad_review                                       clean_review  \n",
       "704                0  want amend email send hour ago rude obnoxious ...  \n",
       "705                0  recently go starbucks barry rd kansas city mo....  \n",
       "706                0  visit location way work go cup coffee attentio...  \n",
       "707                0  recently british royal marines iraq write star...  \n",
       "708                0  way catch plane get medium coffee medium hot c...  "
      ]
     },
     "execution_count": 231,
     "metadata": {},
     "output_type": "execute_result"
    }
   ],
   "source": [
    "df_null_rating.head()"
   ]
  },
  {
   "cell_type": "code",
   "execution_count": 240,
   "metadata": {},
   "outputs": [
    {
     "name": "stdout",
     "output_type": "stream",
     "text": [
      "Review na indexu 0 je bad review ----> 0\n",
      "Review na indexu 1 je bad review ----> 0\n",
      "Review na indexu 2 je bad review ----> 0\n",
      "Review na indexu 3 je bad review ----> 0\n",
      "Review na indexu 4 je bad review ----> 0\n",
      "Review na indexu 5 je bad review ----> 0\n",
      "Review na indexu 6 je good review ----> 1\n",
      "Review na indexu 7 je good review ----> 1\n",
      "Review na indexu 8 je bad review ----> 0\n",
      "Review na indexu 9 je bad review ----> 0\n",
      "Review na indexu 10 je bad review ----> 0\n",
      "Review na indexu 11 je bad review ----> 0\n",
      "Review na indexu 12 je bad review ----> 0\n",
      "Review na indexu 13 je bad review ----> 0\n",
      "Review na indexu 14 je bad review ----> 0\n",
      "Review na indexu 15 je bad review ----> 0\n",
      "Review na indexu 16 je bad review ----> 0\n",
      "Review na indexu 17 je bad review ----> 0\n",
      "Review na indexu 18 je bad review ----> 0\n",
      "Review na indexu 19 je bad review ----> 0\n",
      "Review na indexu 20 je bad review ----> 0\n",
      "Review na indexu 21 je bad review ----> 0\n",
      "Review na indexu 22 je bad review ----> 0\n",
      "Review na indexu 23 je bad review ----> 0\n",
      "Review na indexu 24 je bad review ----> 0\n",
      "Review na indexu 25 je bad review ----> 0\n",
      "Review na indexu 26 je bad review ----> 0\n",
      "Review na indexu 27 je bad review ----> 0\n",
      "Review na indexu 28 je bad review ----> 0\n",
      "Review na indexu 29 je bad review ----> 0\n",
      "Review na indexu 30 je bad review ----> 0\n",
      "Review na indexu 31 je bad review ----> 0\n",
      "Review na indexu 32 je bad review ----> 0\n",
      "Review na indexu 33 je bad review ----> 0\n",
      "Review na indexu 34 je bad review ----> 0\n",
      "Review na indexu 35 je bad review ----> 0\n",
      "Review na indexu 36 je bad review ----> 0\n",
      "Review na indexu 37 je bad review ----> 0\n",
      "Review na indexu 38 je bad review ----> 0\n",
      "Review na indexu 39 je bad review ----> 0\n",
      "Review na indexu 40 je bad review ----> 0\n",
      "Review na indexu 41 je good review ----> 1\n",
      "Review na indexu 42 je bad review ----> 0\n",
      "Review na indexu 43 je bad review ----> 0\n",
      "Review na indexu 44 je bad review ----> 0\n",
      "Review na indexu 45 je good review ----> 1\n",
      "Review na indexu 46 je bad review ----> 0\n",
      "Review na indexu 47 je bad review ----> 0\n",
      "Review na indexu 48 je good review ----> 1\n",
      "Review na indexu 49 je bad review ----> 0\n",
      "Review na indexu 50 je bad review ----> 0\n",
      "Review na indexu 51 je bad review ----> 0\n",
      "Review na indexu 52 je bad review ----> 0\n",
      "Review na indexu 53 je bad review ----> 0\n",
      "Review na indexu 54 je bad review ----> 0\n",
      "Review na indexu 55 je bad review ----> 0\n",
      "Review na indexu 56 je bad review ----> 0\n",
      "Review na indexu 57 je bad review ----> 0\n",
      "Review na indexu 58 je bad review ----> 0\n",
      "Review na indexu 59 je bad review ----> 0\n",
      "Review na indexu 60 je bad review ----> 0\n",
      "Review na indexu 61 je bad review ----> 0\n",
      "Review na indexu 62 je bad review ----> 0\n",
      "Review na indexu 63 je bad review ----> 0\n",
      "Review na indexu 64 je bad review ----> 0\n",
      "Review na indexu 65 je bad review ----> 0\n",
      "Review na indexu 66 je bad review ----> 0\n",
      "Review na indexu 67 je bad review ----> 0\n",
      "Review na indexu 68 je bad review ----> 0\n",
      "Review na indexu 69 je bad review ----> 0\n",
      "Review na indexu 70 je bad review ----> 0\n",
      "Review na indexu 71 je bad review ----> 0\n",
      "Review na indexu 72 je bad review ----> 0\n",
      "Review na indexu 73 je bad review ----> 0\n",
      "Review na indexu 74 je bad review ----> 0\n",
      "Review na indexu 75 je bad review ----> 0\n",
      "Review na indexu 76 je bad review ----> 0\n",
      "Review na indexu 77 je bad review ----> 0\n",
      "Review na indexu 78 je bad review ----> 0\n",
      "Review na indexu 79 je bad review ----> 0\n",
      "Review na indexu 80 je bad review ----> 0\n",
      "Review na indexu 81 je bad review ----> 0\n",
      "Review na indexu 82 je bad review ----> 0\n",
      "Review na indexu 83 je bad review ----> 0\n",
      "Review na indexu 84 je bad review ----> 0\n",
      "Review na indexu 85 je bad review ----> 0\n",
      "Review na indexu 86 je bad review ----> 0\n",
      "Review na indexu 87 je bad review ----> 0\n",
      "Review na indexu 88 je bad review ----> 0\n",
      "Review na indexu 89 je bad review ----> 0\n",
      "Review na indexu 90 je bad review ----> 0\n",
      "Review na indexu 91 je bad review ----> 0\n",
      "Review na indexu 92 je bad review ----> 0\n",
      "Review na indexu 93 je bad review ----> 0\n",
      "Review na indexu 94 je bad review ----> 0\n",
      "Review na indexu 95 je bad review ----> 0\n",
      "Review na indexu 96 je bad review ----> 0\n",
      "Review na indexu 97 je bad review ----> 0\n",
      "Review na indexu 98 je bad review ----> 0\n",
      "Review na indexu 99 je bad review ----> 0\n",
      "Review na indexu 100 je bad review ----> 0\n",
      "Review na indexu 101 je bad review ----> 0\n",
      "Review na indexu 102 je bad review ----> 0\n",
      "Review na indexu 103 je bad review ----> 0\n",
      "Review na indexu 104 je bad review ----> 0\n",
      "Review na indexu 105 je bad review ----> 0\n",
      "Review na indexu 106 je bad review ----> 0\n",
      "Review na indexu 107 je bad review ----> 0\n",
      "Review na indexu 108 je bad review ----> 0\n",
      "Review na indexu 109 je bad review ----> 0\n",
      "Review na indexu 110 je bad review ----> 0\n",
      "Review na indexu 111 je bad review ----> 0\n",
      "Review na indexu 112 je bad review ----> 0\n",
      "Review na indexu 113 je bad review ----> 0\n",
      "Review na indexu 114 je bad review ----> 0\n",
      "Review na indexu 115 je bad review ----> 0\n",
      "Review na indexu 116 je bad review ----> 0\n",
      "Review na indexu 117 je bad review ----> 0\n",
      "Review na indexu 118 je bad review ----> 0\n",
      "Review na indexu 119 je bad review ----> 0\n",
      "Review na indexu 120 je bad review ----> 0\n",
      "Review na indexu 121 je bad review ----> 0\n",
      "Review na indexu 122 je bad review ----> 0\n",
      "Review na indexu 123 je bad review ----> 0\n",
      "Review na indexu 124 je bad review ----> 0\n",
      "Review na indexu 125 je bad review ----> 0\n",
      "Review na indexu 126 je bad review ----> 0\n",
      "Review na indexu 127 je bad review ----> 0\n",
      "Review na indexu 128 je bad review ----> 0\n",
      "Review na indexu 129 je bad review ----> 0\n",
      "Review na indexu 130 je bad review ----> 0\n",
      "Review na indexu 131 je bad review ----> 0\n",
      "Review na indexu 132 je bad review ----> 0\n",
      "Review na indexu 133 je bad review ----> 0\n",
      "Review na indexu 134 je bad review ----> 0\n",
      "Review na indexu 135 je bad review ----> 0\n",
      "Review na indexu 136 je bad review ----> 0\n",
      "Review na indexu 137 je bad review ----> 0\n",
      "Review na indexu 138 je bad review ----> 0\n",
      "Review na indexu 139 je bad review ----> 0\n",
      "Review na indexu 140 je bad review ----> 0\n",
      "Review na indexu 141 je bad review ----> 0\n",
      "Review na indexu 142 je bad review ----> 0\n",
      "Review na indexu 143 je bad review ----> 0\n",
      "Review na indexu 144 je bad review ----> 0\n"
     ]
    }
   ],
   "source": [
    "for index, review in enumerate(df_null_rating.clean_review.values):\n",
    "    prediction = clf.predict(df_null_rating.clean_review.values)[index]\n",
    "    if prediction == 0: \n",
    "        review = \"bad review\"\n",
    "    else:\n",
    "        review = \"good review\"\n",
    "    print(\"Review na indexu\", index, \"je\", review, \"---->\", prediction)\n"
   ]
  }
 ],
 "metadata": {
  "kernelspec": {
   "display_name": "Python 3",
   "language": "python",
   "name": "python3"
  },
  "language_info": {
   "codemirror_mode": {
    "name": "ipython",
    "version": 3
   },
   "file_extension": ".py",
   "mimetype": "text/x-python",
   "name": "python",
   "nbconvert_exporter": "python",
   "pygments_lexer": "ipython3",
   "version": "3.9.6"
  }
 },
 "nbformat": 4,
 "nbformat_minor": 2
}
